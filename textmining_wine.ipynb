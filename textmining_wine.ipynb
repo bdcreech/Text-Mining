{
 "cells": [
  {
   "cell_type": "code",
   "execution_count": 2,
   "metadata": {},
   "outputs": [],
   "source": [
    "# setup\n",
    "\n",
    "import os\n",
    "import nltk\n",
    "import re\n",
    "import string\n",
    "import sklearn as sl \n",
    "import pandas as pd\n",
    "\n",
    "os.chdir(\"C:\\\\Users\\\\Grant\\\\Downloads\\\\wine-reviews\\\\\") #change directory to where the Python wrapper is "
   ]
  },
  {
   "cell_type": "code",
   "execution_count": 4,
   "metadata": {},
   "outputs": [],
   "source": [
    "%%capture \n",
    "\n",
    "# delete any line that says %%capture to make the output show!\n",
    "\n",
    "#importing the wine\n",
    "\n",
    "df = pd.read_csv('winemag-data_first150k.csv', index_col='id')\n",
    "print(df) #obviously this comes out huge"
   ]
  },
  {
   "cell_type": "code",
   "execution_count": 4,
   "metadata": {},
   "outputs": [],
   "source": [
    "%%capture\n",
    "\n",
    "# checking the dataframe\n",
    "\n",
    "df.head() # looks solid. got all columns\n",
    "df.dtypes # not very helpful. everything is an 'object' type but points and price, which are an int and float respectively\n",
    "df.isnull().sum() # most of the missing values are in region_2 (more general than region_1), region_1 (specific), designation (???)\n",
    "df.nunique() # 48 unique countries, "
   ]
  },
  {
   "cell_type": "code",
   "execution_count": 5,
   "metadata": {},
   "outputs": [],
   "source": [
    "%%capture\n",
    "\n",
    "# getting rid of variables we don't need\n",
    "df.drop(columns=['designation', 'price', 'province', 'region_1', 'region_2', 'winery'])"
   ]
  },
  {
   "cell_type": "code",
   "execution_count": 6,
   "metadata": {},
   "outputs": [],
   "source": [
    "%%capture\n",
    "\n",
    "# trying some groupby's for fun\n",
    "\n",
    "df_nation = df.groupby(['country']).count()\n",
    "df_nation.sort_values(by='description', ascending=False) # US, Italy, France, Spain, Chile are top 5 countries whose wines are in the csv\n"
   ]
  },
  {
   "cell_type": "code",
   "execution_count": 5,
   "metadata": {},
   "outputs": [
    {
     "data": {
      "text/plain": [
       "list"
      ]
     },
     "execution_count": 5,
     "metadata": {},
     "output_type": "execute_result"
    }
   ],
   "source": [
    "# creating the document \n",
    "doc = []\n",
    "descriptions = df['description']\n",
    "type(descriptions) # made a series\n",
    "type(doc)\n",
    "    "
   ]
  },
  {
   "cell_type": "code",
   "execution_count": 6,
   "metadata": {},
   "outputs": [],
   "source": [
    "%%capture\n",
    "\n",
    "# create a list of all the reviews\n",
    "for description in descriptions:\n",
    "    doc.append(description)\n",
    "print(doc[1:100]) # works"
   ]
  },
  {
   "cell_type": "code",
   "execution_count": 7,
   "metadata": {},
   "outputs": [
    {
     "name": "stdout",
     "output_type": "stream",
     "text": [
      "[['ripe', 'aromas', 'of', 'fig', 'blackberry', 'and', 'cassis', 'are', 'softened', 'and', 'sweetened', 'by', 'a', 'slathering', 'of', 'oaky', 'chocolate', 'and', 'vanilla', 'this', 'is', 'full', 'layered', 'intense', 'and', 'cushioned', 'on', 'the', 'palate', 'with', 'rich', 'flavors', 'of', 'chocolaty', 'black', 'fruits', 'and', 'baking', 'spices', 'a', 'toasty', 'everlasting', 'finish', 'is', 'heady', 'but', 'ideally', 'balanced', 'drink', 'through', '2023'], ['mac', 'watson', 'honors', 'the', 'memory', 'of', 'a', 'wine', 'once', 'made', 'by', 'his', 'mother', 'in', 'this', 'tremendously', 'delicious', 'balanced', 'and', 'complex', 'botrytised', 'white', 'dark', 'gold', 'in', 'color', 'it', 'layers', 'toasted', 'hazelnut', 'pear', 'compote', 'and', 'orange', 'peel', 'flavors', 'reveling', 'in', 'the', 'succulence', 'of', 'its', '122', 'gl', 'of', 'residual', 'sugar'], ['this', 'spent', '20', 'months', 'in', '30', 'new', 'french', 'oak', 'and', 'incorporates', 'fruit', 'from', 'ponzis', 'aurora', 'abetina', 'and', 'madrona', 'vineyards', 'among', 'others', 'aromatic', 'dense', 'and', 'toasty', 'it', 'deftly', 'blends', 'aromas', 'and', 'flavors', 'of', 'toast', 'cigar', 'box', 'blackberry', 'black', 'cherry', 'coffee', 'and', 'graphite', 'tannins', 'are', 'polished', 'to', 'a', 'fine', 'sheen', 'and', 'frame', 'a', 'finish', 'loaded', 'with', 'dark', 'chocolate', 'and', 'espresso', 'drink', 'now', 'through', '2032'], ['this', 'is', 'the', 'top', 'wine', 'from', 'la', 'bégude', 'named', 'after', 'the', 'highest', 'point', 'in', 'the', 'vineyard', 'at', '1200', 'feet', 'it', 'has', 'structure', 'density', 'and', 'considerable', 'acidity', 'that', 'is', 'still', 'calming', 'down', 'with', '18', 'months', 'in', 'wood', 'the', 'wine', 'has', 'developing', 'an', 'extra', 'richness', 'and', 'concentration', 'produced', 'by', 'the', 'tari', 'family', 'formerly', 'of', 'château', 'giscours', 'in', 'margaux', 'it', 'is', 'a', 'wine', 'made', 'for', 'aging', 'drink', 'from', '2020'], ['deep', 'dense', 'and', 'pure', 'from', 'the', 'opening', 'bell', 'this', 'toro', 'is', 'a', 'winner', 'aromas', 'of', 'dark', 'ripe', 'black', 'fruits', 'are', 'cool', 'and', 'moderately', 'oaked', 'this', 'feels', 'massive', 'on', 'the', 'palate', 'but', 'sensationally', 'balanced', 'flavors', 'of', 'blackberry', 'coffee', 'mocha', 'and', 'toasty', 'oak', 'finish', 'spicy', 'smooth', 'and', 'heady', 'drink', 'this', 'exemplary', 'toro', 'through', '2023'], ['slightly', 'gritty', 'blackfruit', 'aromas', 'include', 'a', 'sweet', 'note', 'of', 'pastry', 'along', 'with', 'a', 'hint', 'of', 'prune', 'walltowall', 'saturation', 'ensures', 'that', 'all', 'corners', 'of', 'ones', 'mouth', 'are', 'covered', 'flavors', 'of', 'blackberry', 'mocha', 'and', 'chocolate', 'are', 'highly', 'impressive', 'and', 'expressive', 'while', 'this', 'settles', 'nicely', 'on', 'a', 'long', 'finish', 'drink', 'now', 'through', '2024'], ['lush', 'cedary', 'blackfruit', 'aromas', 'are', 'luxe', 'and', 'offer', 'notes', 'of', 'marzipan', 'and', 'vanilla', 'this', 'bruiser', 'is', 'massive', 'and', 'tannic', 'on', 'the', 'palate', 'but', 'still', 'lush', 'and', 'friendly', 'chocolate', 'is', 'a', 'key', 'flavor', 'while', 'baked', 'berry', 'and', 'cassis', 'flavors', 'are', 'hardly', 'wallflowers', 'on', 'the', 'finish', 'this', 'is', 'tannic', 'and', 'deep', 'as', 'a', 'sea', 'trench', 'drink', 'this', 'saturated', 'blackcolored', 'toro', 'through', '2023'], ['this', 'renamed', 'vineyard', 'was', 'formerly', 'bottled', 'as', 'delancellotti', 'youll', 'find', 'striking', 'minerality', 'underscoring', 'chunky', 'black', 'fruits', 'accents', 'of', 'citrus', 'and', 'graphite', 'comingle', 'with', 'exceptional', 'midpalate', 'concentration', 'this', 'is', 'a', 'wine', 'to', 'cellar', 'though', 'it', 'is', 'already', 'quite', 'enjoyable', 'drink', 'now', 'through', '2030'], ['the', 'producer', 'sources', 'from', 'two', 'blocks', 'of', 'the', 'vineyard', 'for', 'this', 'wine—one', 'at', 'a', 'high', 'elevation', 'which', 'contributes', 'bright', 'acidity', 'crunchy', 'cranberry', 'pomegranate', 'and', 'orange', 'peel', 'flavors', 'surround', 'silky', 'succulent', 'layers', 'of', 'texture', 'that', 'present', 'as', 'fleshy', 'fruit', 'that', 'delicately', 'lush', 'flavor', 'has', 'considerable', 'length']]\n"
     ]
    }
   ],
   "source": [
    "# remove punctuation\n",
    "punc = re.compile('[%s]' % re.escape(string.punctuation))\n",
    "term_vec = []\n",
    "for d in doc: \n",
    "    d = d.lower()\n",
    "    d = punc.sub('', d)\n",
    "    term_vec.append(nltk.word_tokenize(d))\n",
    "\n",
    "print(term_vec[1:10])"
   ]
  },
  {
   "cell_type": "code",
   "execution_count": null,
   "metadata": {},
   "outputs": [],
   "source": []
  }
 ],
 "metadata": {
  "kernelspec": {
   "display_name": "Python 3",
   "language": "python",
   "name": "python3"
  },
  "language_info": {
   "codemirror_mode": {
    "name": "ipython",
    "version": 3
   },
   "file_extension": ".py",
   "mimetype": "text/x-python",
   "name": "python",
   "nbconvert_exporter": "python",
   "pygments_lexer": "ipython3",
   "version": "3.6.4"
  }
 },
 "nbformat": 4,
 "nbformat_minor": 2
}
